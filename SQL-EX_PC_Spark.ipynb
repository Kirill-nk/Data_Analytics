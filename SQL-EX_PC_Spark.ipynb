{
 "cells": [
  {
   "cell_type": "markdown",
   "id": "3ccc8bd0",
   "metadata": {
    "toc": true
   },
   "source": [
    "<h1>Table of Contents<span class=\"tocSkip\"></span></h1>\n",
    "<div class=\"toc\"><ul class=\"toc-item\"><li><span><a href=\"#Запускаем-Spark\" data-toc-modified-id=\"Запускаем-Spark-1\"><span class=\"toc-item-num\">1&nbsp;&nbsp;</span>Запускаем Spark</a></span><ul class=\"toc-item\"><li><span><a href=\"#2--computer\" data-toc-modified-id=\"2--computer-1.1\"><span class=\"toc-item-num\">1.1&nbsp;&nbsp;</span>2  computer</a></span><ul class=\"toc-item\"><li><span><a href=\"#Задача-1.\" data-toc-modified-id=\"Задача-1.-1.1.1\"><span class=\"toc-item-num\">1.1.1&nbsp;&nbsp;</span>Задача 1.</a></span></li><li><span><a href=\"#Задача-2.\" data-toc-modified-id=\"Задача-2.-1.1.2\"><span class=\"toc-item-num\">1.1.2&nbsp;&nbsp;</span>Задача 2.</a></span></li><li><span><a href=\"#Задание-3.\" data-toc-modified-id=\"Задание-3.-1.1.3\"><span class=\"toc-item-num\">1.1.3&nbsp;&nbsp;</span>Задание 3.</a></span></li><li><span><a href=\"#Задание-4\" data-toc-modified-id=\"Задание-4-1.1.4\"><span class=\"toc-item-num\">1.1.4&nbsp;&nbsp;</span>Задание 4</a></span></li><li><span><a href=\"#Задание-5\" data-toc-modified-id=\"Задание-5-1.1.5\"><span class=\"toc-item-num\">1.1.5&nbsp;&nbsp;</span>Задание 5</a></span></li><li><span><a href=\"#Задание:-10\" data-toc-modified-id=\"Задание:-10-1.1.6\"><span class=\"toc-item-num\">1.1.6&nbsp;&nbsp;</span>Задание: 10</a></span></li><li><span><a href=\"#Задание:-9\" data-toc-modified-id=\"Задание:-9-1.1.7\"><span class=\"toc-item-num\">1.1.7&nbsp;&nbsp;</span>Задание: 9</a></span></li><li><span><a href=\"#Задание:-11\" data-toc-modified-id=\"Задание:-11-1.1.8\"><span class=\"toc-item-num\">1.1.8&nbsp;&nbsp;</span>Задание: 11</a></span></li><li><span><a href=\"#Задание:-12\" data-toc-modified-id=\"Задание:-12-1.1.9\"><span class=\"toc-item-num\">1.1.9&nbsp;&nbsp;</span>Задание: 12</a></span></li><li><span><a href=\"#Задание:-13\" data-toc-modified-id=\"Задание:-13-1.1.10\"><span class=\"toc-item-num\">1.1.10&nbsp;&nbsp;</span>Задание: 13</a></span></li><li><span><a href=\"#Задание:-6-(2)\" data-toc-modified-id=\"Задание:-6-(2)-1.1.11\"><span class=\"toc-item-num\">1.1.11&nbsp;&nbsp;</span>Задание: 6 (2)</a></span></li><li><span><a href=\"#Задание-7-(2)\" data-toc-modified-id=\"Задание-7-(2)-1.1.12\"><span class=\"toc-item-num\">1.1.12&nbsp;&nbsp;</span>Задание 7 (2)</a></span></li><li><span><a href=\"#Задание:-8-(2)\" data-toc-modified-id=\"Задание:-8-(2)-1.1.13\"><span class=\"toc-item-num\">1.1.13&nbsp;&nbsp;</span>Задание: 8 (2)</a></span></li><li><span><a href=\"#Задание:-12-(1)\" data-toc-modified-id=\"Задание:-12-(1)-1.1.14\"><span class=\"toc-item-num\">1.1.14&nbsp;&nbsp;</span>Задание: 12 (1)</a></span></li><li><span><a href=\"#Задание-13(1)\" data-toc-modified-id=\"Задание-13(1)-1.1.15\"><span class=\"toc-item-num\">1.1.15&nbsp;&nbsp;</span>Задание 13(1)</a></span></li><li><span><a href=\"#Задание-14(2)\" data-toc-modified-id=\"Задание-14(2)-1.1.16\"><span class=\"toc-item-num\">1.1.16&nbsp;&nbsp;</span>Задание 14(2)</a></span></li></ul></li></ul></li></ul></div>"
   ]
  },
  {
   "cell_type": "markdown",
   "id": "1c4fa9ee",
   "metadata": {},
   "source": [
    "# Запускаем Spark "
   ]
  },
  {
   "cell_type": "code",
   "execution_count": 94,
   "id": "17989af6",
   "metadata": {},
   "outputs": [],
   "source": [
    "spark.stop()"
   ]
  },
  {
   "cell_type": "code",
   "execution_count": 1,
   "id": "f5db6f33",
   "metadata": {},
   "outputs": [],
   "source": [
    "import findspark\n",
    "findspark.init()\n",
    "from pyspark.sql import SparkSession"
   ]
  },
  {
   "cell_type": "code",
   "execution_count": 2,
   "id": "6268f5e2",
   "metadata": {},
   "outputs": [
    {
     "data": {
      "text/html": [
       "\n",
       "            <div>\n",
       "                <p><b>SparkSession - in-memory</b></p>\n",
       "                \n",
       "        <div>\n",
       "            <p><b>SparkContext</b></p>\n",
       "\n",
       "            <p><a href=\"http://Fe:4040\">Spark UI</a></p>\n",
       "\n",
       "            <dl>\n",
       "              <dt>Version</dt>\n",
       "                <dd><code>v3.5.0</code></dd>\n",
       "              <dt>Master</dt>\n",
       "                <dd><code>local[*]</code></dd>\n",
       "              <dt>AppName</dt>\n",
       "                <dd><code>pyspark-shell</code></dd>\n",
       "            </dl>\n",
       "        </div>\n",
       "        \n",
       "            </div>\n",
       "        "
      ],
      "text/plain": [
       "<pyspark.sql.session.SparkSession at 0x2faf6417a90>"
      ]
     },
     "execution_count": 2,
     "metadata": {},
     "output_type": "execute_result"
    }
   ],
   "source": [
    "spark = SparkSession.builder.master(\"local[*]\").getOrCreate()\n",
    "spark.conf.set(\"spark.sql.repl.eagerEval.enabled\", True) # Property used to format output tables better\n",
    "spark"
   ]
  },
  {
   "cell_type": "markdown",
   "id": "81a6e0bc",
   "metadata": {},
   "source": [
    "## 2  computer"
   ]
  },
  {
   "cell_type": "markdown",
   "id": "f8e42c8b",
   "metadata": {},
   "source": [
    "Краткая информация о базе данных \"Компьютерная фирма\":\n",
    "\n",
    "Схема БД состоит из четырех таблиц: -Product(maker, model, type) -PC(code, model, speed, ram, hd, cd, price) -Laptop(code, model, speed, ram, hd, price, screen) -Printer(code, model, color, type, price)\n",
    "\n",
    "Таблица Product представляет производителя (maker), номер модели (model) и тип ('PC' - ПК, 'Laptop' - ПК-блокнот или 'Printer' - принтер).\n",
    "\n",
    "Предполагается, что номера моделей в таблице Product уникальны для всех производителей и типов продуктов.\n",
    "\n",
    "В таблице PC для каждого ПК, однозначно определяемого уникальным кодом – code, указаны модель – model (внешний ключ к таблице Product), скорость - speed (процессора в мегагерцах), объем памяти - ram (в мегабайтах), размер диска - hd (в гигабайтах), скорость считывающего устройства - cd (например, '4x') и цена - price (в долларах).\n",
    "\n",
    "Таблица Laptop аналогична таблице РС за исключением того, что вместо скорости CD содержит размер экрана -screen (в дюймах).\n",
    "\n",
    "В таблице Printer для каждой модели принтера указывается, является ли он цветным - color ('y', если цветной), тип принтера - type (лазерный – 'Laser', струйный – 'Jet' или матричный – 'Matrix') и цена - price."
   ]
  },
  {
   "cell_type": "code",
   "execution_count": 3,
   "id": "8049cb50",
   "metadata": {},
   "outputs": [
    {
     "name": "stdout",
     "output_type": "stream",
     "text": [
      "+----+-----+-----+---+---+-----+------+\n",
      "|code|model|speed|ram| hd|price|screen|\n",
      "+----+-----+-----+---+---+-----+------+\n",
      "|   1| 1298|  350| 32|  4|  700|    11|\n",
      "|   2| 1321|  500| 64|  8|  970|    12|\n",
      "|   3| 1750|  750|128| 12| 1200|    14|\n",
      "|   4| 1298|  600| 64| 10| 1050|    15|\n",
      "+----+-----+-----+---+---+-----+------+\n",
      "only showing top 4 rows\n",
      "\n"
     ]
    }
   ],
   "source": [
    "Laptop = spark.createDataFrame([\n",
    "(1,'1298',350,32,4,700,11)\n",
    ",(2,'1321',500,64,8,970,12)\n",
    ",(3,'1750',750,128,12,1200,14)\n",
    ",(4,'1298',600,64,10,1050,15)\n",
    ",(5,'1752',750,128,10,1150,14)\n",
    ",(6,'1298',450,64,10,950,12)\n",
    "],\\\n",
    "    schema=[\"code\", \"model\",\"speed\",\"ram\",\\\n",
    "           \"hd\",\"price\",\"screen\"]).cache()\n",
    "Laptop.count()\n",
    "Laptop.createTempView(\"Laptop\")\n",
    "Laptop.show(4)"
   ]
  },
  {
   "cell_type": "code",
   "execution_count": 4,
   "id": "a02d0260",
   "metadata": {},
   "outputs": [
    {
     "name": "stdout",
     "output_type": "stream",
     "text": [
      "+----+-----+-----+---+---+---+-----+\n",
      "|code|model|speed|ram| hd| cd|price|\n",
      "+----+-----+-----+---+---+---+-----+\n",
      "|   1| 1232|  500| 64|  5|12x|  600|\n",
      "|   2| 1121|  750|128| 14|40x|  850|\n",
      "|   3| 1233|  500| 64|  5|12x|  600|\n",
      "|   4| 1121|  600|128| 14|40x|  850|\n",
      "+----+-----+-----+---+---+---+-----+\n",
      "only showing top 4 rows\n",
      "\n"
     ]
    }
   ],
   "source": [
    "PC = spark.createDataFrame([\n",
    "(1,'1232',500,64,5,'12x',600)\n",
    ",(2,'1121',750,128,14,'40x',850)\n",
    ",(3,'1233',500,64,5,'12x',600)\n",
    ",(4,'1121',600,128,14,'40x',850)\n",
    ",(5,'1121',600,128,8,'40x',850)\n",
    ",(6,'1233',750,128,20,'50x',950)\n",
    ",(7,'1232',500,32,10,'12x',400)\n",
    ",(8,'1232',450,64,8,'24x',350)\n",
    ",(9,'1232',450,32,10,'24x',350)\n",
    ",(10,'1260',500,32,10,'12x',350)\n",
    ",(11,'1233',900,128,40,'40x',980)\n",
    ",(12,'1233',800,128,20,'50x',970)\n",
    "], \\\n",
    "    schema=[\"code\", \"model\",\"speed\",\"ram\",\\\n",
    "           \"hd\",\"cd\",\"price\"]).cache()\n",
    "PC.count()\n",
    "PC.createTempView(\"PC\")\n",
    "PC.show(4)"
   ]
  },
  {
   "cell_type": "code",
   "execution_count": 5,
   "id": "345197e4",
   "metadata": {},
   "outputs": [
    {
     "name": "stdout",
     "output_type": "stream",
     "text": [
      "+-----+-----+----+\n",
      "|maker|model|type|\n",
      "+-----+-----+----+\n",
      "|    B| 1121|  PC|\n",
      "|    A| 1232|  PC|\n",
      "|    A| 1233|  PC|\n",
      "|    E| 1260|  PC|\n",
      "+-----+-----+----+\n",
      "only showing top 4 rows\n",
      "\n"
     ]
    }
   ],
   "source": [
    "Product = spark.createDataFrame([\n",
    "('B','1121','PC')\n",
    ",('A','1232','PC')\n",
    ",('A','1233','PC')\n",
    ",('E','1260','PC')\n",
    ",('A','1276','Printer')\n",
    ",('D','1288','Printer')\n",
    ",('A','1298','Laptop')\n",
    ",('C','1321','Laptop')\n",
    ",('A','1401','Printer')\n",
    ",('A','1408','Printer')\n",
    ",('D','1433','Printer')\n",
    ",('E','1434','Printer')\n",
    ",('B','1750','Laptop')\n",
    ",('A','1752','Laptop')\n",
    ",('E','2113','PC')\n",
    ",('E','2112','PC')\n",
    "\n",
    "], schema=[\"maker\", \"model\",\"type\"]).cache()\n",
    "Product.count()\n",
    "Product.createTempView(\"Product\")\n",
    "Product.show(4)"
   ]
  },
  {
   "cell_type": "code",
   "execution_count": 6,
   "id": "9cb9c097",
   "metadata": {
    "scrolled": true
   },
   "outputs": [
    {
     "name": "stdout",
     "output_type": "stream",
     "text": [
      "+----+-----+-----+------+-----+\n",
      "|code|model|color|  type|price|\n",
      "+----+-----+-----+------+-----+\n",
      "|   1| 1276|    n| Laser|  400|\n",
      "|   2| 1433|    y|   Jet|  270|\n",
      "|   3| 1434|    y|   Jet|  290|\n",
      "|   4| 1401|    n|Matrix|  150|\n",
      "+----+-----+-----+------+-----+\n",
      "only showing top 4 rows\n",
      "\n"
     ]
    }
   ],
   "source": [
    "Printer = spark.createDataFrame([\n",
    "(1,'1276','n','Laser',400)\n",
    ",(2,'1433','y','Jet',270)\n",
    ",(3,'1434','y','Jet',290)\n",
    ",(4,'1401','n','Matrix',150)\n",
    ",(5,'1408','n','Matrix',270)\n",
    ",(6,'1288','n','Laser',400)\n",
    "], \\\n",
    "    schema=[\"code\", \"model\",\"color\",\"type\",\"price\"]).cache()\n",
    "Printer.count()\n",
    "Printer.createTempView(\"Printer\")\n",
    "Printer.show(4)"
   ]
  },
  {
   "cell_type": "code",
   "execution_count": 77,
   "id": "b8ab7918",
   "metadata": {},
   "outputs": [],
   "source": [
    "import pyspark.sql.functions as F\n",
    "from pyspark.sql.functions import mean, col"
   ]
  },
  {
   "cell_type": "code",
   "execution_count": 8,
   "id": "1221ebbb",
   "metadata": {},
   "outputs": [
    {
     "data": {
      "text/html": [
       "<style>.container { width:90% !important; }</style>"
      ],
      "text/plain": [
       "<IPython.core.display.HTML object>"
      ]
     },
     "metadata": {},
     "output_type": "display_data"
    }
   ],
   "source": [
    "from IPython.display import display, HTML\n",
    "display(HTML(\"<style>.container { width:90% !important; }</style>\"))"
   ]
  },
  {
   "cell_type": "markdown",
   "id": "247e5cfd",
   "metadata": {},
   "source": [
    "ПРИМЕР КОДА, КОТОРЫЙ САНЕК ПРЕДОСТАВИЛ В КАЧЕСТВЕ УЧЕБНОГО ПРАКТИЧЕСКОГО ПОСОБИЯ"
   ]
  },
  {
   "cell_type": "code",
   "execution_count": 8,
   "id": "b5a27612",
   "metadata": {},
   "outputs": [
    {
     "name": "stdout",
     "output_type": "stream",
     "text": [
      "+---+-----+\n",
      "|qty|model|\n",
      "+---+-----+\n",
      "|  1| 1433|\n",
      "|  1| 1434|\n",
      "|  1| 1401|\n",
      "|  1| 1408|\n",
      "+---+-----+\n",
      "\n"
     ]
    }
   ],
   "source": [
    "#Образец кода правильного синтаксиса для понимания(код рабочий).\n",
    "#selectExpr - выражение для одного столбца. Например переименовать, \n",
    "a1 = Printer.select(\"model\", \"color\", \"price\").\\\n",
    "filter(\"price<400\").join(Product, on='model', how='left').\\\n",
    "selectExpr(\"maker maker1\", \"model\", \"price\", \"maker\").\\\n",
    "groupBy(\"maker\", \"model\").count().\\\n",
    "selectExpr(\"count qty\", \"model\")\n",
    "a1.show()"
   ]
  },
  {
   "cell_type": "markdown",
   "id": "1c46acec",
   "metadata": {},
   "source": [
    "### Задача 1."
   ]
  },
  {
   "cell_type": "markdown",
   "id": "7d9385e0",
   "metadata": {},
   "source": [
    "Найдите номер модели, скорость и размер жесткого диска для всех ПК стоимостью менее 500 дол. Вывести: model, speed и hd"
   ]
  },
  {
   "cell_type": "code",
   "execution_count": 9,
   "id": "a46b2d7e",
   "metadata": {},
   "outputs": [
    {
     "name": "stdout",
     "output_type": "stream",
     "text": [
      "+-----+-----+---+\n",
      "|model|speed| hd|\n",
      "+-----+-----+---+\n",
      "| 1232|  500| 10|\n",
      "| 1232|  450|  8|\n",
      "| 1232|  450| 10|\n",
      "| 1260|  500| 10|\n",
      "+-----+-----+---+\n",
      "\n"
     ]
    }
   ],
   "source": [
    "#Решение в SQL\n",
    "spark.sql(\"\"\"\n",
    "\n",
    "SELECT model, speed, hd\n",
    "From PC\n",
    "WHERE price < 500\n",
    "\n",
    "\"\"\").show()"
   ]
  },
  {
   "cell_type": "code",
   "execution_count": 11,
   "id": "7b5fcdbd",
   "metadata": {},
   "outputs": [
    {
     "name": "stdout",
     "output_type": "stream",
     "text": [
      "+-----+-----+---+\n",
      "|model|speed| hd|\n",
      "+-----+-----+---+\n",
      "| 1232|  500| 10|\n",
      "| 1232|  450|  8|\n",
      "| 1232|  450| 10|\n",
      "| 1260|  500| 10|\n",
      "+-----+-----+---+\n",
      "\n"
     ]
    }
   ],
   "source": [
    "#Решение в Spark\n",
    "PC.select(\"model\", \"speed\", \"hd\").\\\n",
    "filter(\"price<500\").show()"
   ]
  },
  {
   "cell_type": "markdown",
   "id": "01c02217",
   "metadata": {},
   "source": [
    "### Задача 2."
   ]
  },
  {
   "cell_type": "markdown",
   "id": "3d4e1369",
   "metadata": {},
   "source": [
    "Найдите производителей принтеров. Вывести: maker"
   ]
  },
  {
   "cell_type": "code",
   "execution_count": 21,
   "id": "c3c3cd02",
   "metadata": {},
   "outputs": [
    {
     "name": "stdout",
     "output_type": "stream",
     "text": [
      "+-----+-----+-----+-------+\n",
      "|maker|maker|model|   type|\n",
      "+-----+-----+-----+-------+\n",
      "|    D|    D| 1288|Printer|\n",
      "|    A|    A| 1276|Printer|\n",
      "|    E|    E| 1434|Printer|\n",
      "|    A|    A| 1408|Printer|\n",
      "|    A|    A| 1401|Printer|\n",
      "|    D|    D| 1433|Printer|\n",
      "+-----+-----+-----+-------+\n",
      "\n"
     ]
    }
   ],
   "source": [
    "#SQL\n",
    "spark.sql(\"\"\"\n",
    "\n",
    "SELECT DISTINCT maker, *\n",
    "FROM Product\n",
    "WHERE type = 'Printer'\n",
    "\n",
    "\"\"\").show()"
   ]
  },
  {
   "cell_type": "code",
   "execution_count": 22,
   "id": "54de8f1b",
   "metadata": {},
   "outputs": [
    {
     "name": "stdout",
     "output_type": "stream",
     "text": [
      "+-----+\n",
      "|maker|\n",
      "+-----+\n",
      "|    D|\n",
      "|    A|\n",
      "|    E|\n",
      "+-----+\n",
      "\n"
     ]
    }
   ],
   "source": [
    "#Spark. Задача 2\n",
    "Product.select(\"maker\").\\\n",
    "filter(\"type = 'Printer'\").distinct().show()"
   ]
  },
  {
   "cell_type": "markdown",
   "id": "cef4c2d0",
   "metadata": {},
   "source": [
    "### Задание 3."
   ]
  },
  {
   "cell_type": "markdown",
   "id": "47c61d00",
   "metadata": {},
   "source": [
    "Найдите номер модели, объем памяти и размеры экранов ПК-блокнотов, цена которых превышает 1000 дол.\n",
    "\n",
    "· Справка по теме:Простой оператор SELECT"
   ]
  },
  {
   "cell_type": "code",
   "execution_count": 45,
   "id": "8cfb3a47",
   "metadata": {},
   "outputs": [
    {
     "name": "stdout",
     "output_type": "stream",
     "text": [
      "+-----+---+------+----+-----+-----+---+---+-----+------+\n",
      "|model|ram|screen|code|model|speed|ram| hd|price|screen|\n",
      "+-----+---+------+----+-----+-----+---+---+-----+------+\n",
      "| 1750|128|    14|   3| 1750|  750|128| 12| 1200|    14|\n",
      "| 1298| 64|    15|   4| 1298|  600| 64| 10| 1050|    15|\n",
      "| 1752|128|    14|   5| 1752|  750|128| 10| 1150|    14|\n",
      "+-----+---+------+----+-----+-----+---+---+-----+------+\n",
      "\n"
     ]
    }
   ],
   "source": [
    "#SQL. Задача 3\n",
    "spark.sql(\"\"\"\n",
    "\n",
    "SELECT model, ram, screen, *\n",
    "FROM Laptop\n",
    "WHERE price > 1000\n",
    "\n",
    "\"\"\").show()"
   ]
  },
  {
   "cell_type": "code",
   "execution_count": 8,
   "id": "ed28c512",
   "metadata": {},
   "outputs": [
    {
     "name": "stdout",
     "output_type": "stream",
     "text": [
      "+-----+---+------+-----+---+------+-----------+\n",
      "|model|ram|screen|model|ram|screen|rank_screen|\n",
      "+-----+---+------+-----+---+------+-----------+\n",
      "| 1298| 32|    11| 1298| 32|    11|          1|\n",
      "| 1298| 64|    12| 1298| 64|    12|          2|\n",
      "| 1298| 64|    15| 1298| 64|    15|          3|\n",
      "| 1321| 64|    12| 1321| 64|    12|          1|\n",
      "| 1750|128|    14| 1750|128|    14|          1|\n",
      "| 1752|128|    14| 1752|128|    14|          1|\n",
      "+-----+---+------+-----+---+------+-----------+\n",
      "\n"
     ]
    }
   ],
   "source": [
    "#Spark. Задача 3\n",
    "Laptop.select(\"model\", \"ram\", \"screen\").\\\n",
    "filter(\"price>100\").\\\n",
    "selectExpr(\"model\", \"ram\", \"screen\", \"*\", \"row_number() over(partition by model order by screen asc) rank_screen\").\\\n",
    "show()"
   ]
  },
  {
   "cell_type": "markdown",
   "id": "7669e9a6",
   "metadata": {},
   "source": [
    "### Задание 4"
   ]
  },
  {
   "cell_type": "markdown",
   "id": "69b5fb45",
   "metadata": {},
   "source": [
    "Найдите все записи таблицы Printer для цветных принтеров."
   ]
  },
  {
   "cell_type": "code",
   "execution_count": 8,
   "id": "fdcd6aab",
   "metadata": {},
   "outputs": [
    {
     "name": "stdout",
     "output_type": "stream",
     "text": [
      "+----+-----+-----+----+-----+\n",
      "|code|model|color|type|price|\n",
      "+----+-----+-----+----+-----+\n",
      "|   2| 1433|    y| Jet|  270|\n",
      "|   3| 1434|    y| Jet|  290|\n",
      "+----+-----+-----+----+-----+\n",
      "\n"
     ]
    }
   ],
   "source": [
    "#SQL. Задача 4\n",
    "spark.sql(\"\"\"\n",
    "\n",
    "SELECT *\n",
    "FROM Printer\n",
    "WHERE color = \"y\"\n",
    "\n",
    "\"\"\").show()"
   ]
  },
  {
   "cell_type": "code",
   "execution_count": 16,
   "id": "96715c1c",
   "metadata": {},
   "outputs": [
    {
     "name": "stdout",
     "output_type": "stream",
     "text": [
      "+----+-----+-----+----+-----+\n",
      "|code|model|color|type|price|\n",
      "+----+-----+-----+----+-----+\n",
      "|   2| 1433|    y| Jet|  270|\n",
      "|   3| 1434|    y| Jet|  290|\n",
      "+----+-----+-----+----+-----+\n",
      "\n"
     ]
    }
   ],
   "source": [
    "#Spark. Задача 4\n",
    "Printer.select(\"*\").\\\n",
    "filter(\"color = 'y'\").show()"
   ]
  },
  {
   "cell_type": "markdown",
   "id": "98a8e254",
   "metadata": {},
   "source": [
    "### Задание 5"
   ]
  },
  {
   "cell_type": "markdown",
   "id": "e5a88d1c",
   "metadata": {},
   "source": [
    "Найдите номер модели, скорость и размер жесткого диска ПК, имеющих 12x или 24x CD и цену менее 600 дол.\n",
    "\n",
    " · Справка по теме:\n",
    "    Простой оператор SELECT\n",
    "    Предикаты (часть 1)"
   ]
  },
  {
   "cell_type": "code",
   "execution_count": 27,
   "id": "aafa1b3d",
   "metadata": {},
   "outputs": [
    {
     "name": "stdout",
     "output_type": "stream",
     "text": [
      "+-----+-----+---+\n",
      "|model|speed| hd|\n",
      "+-----+-----+---+\n",
      "| 1232|  500| 10|\n",
      "| 1232|  450|  8|\n",
      "| 1232|  450| 10|\n",
      "| 1260|  500| 10|\n",
      "+-----+-----+---+\n",
      "\n"
     ]
    }
   ],
   "source": [
    "#SQL. Задача 5\n",
    "spark.sql(\"\"\"\n",
    "\n",
    "SELECT model, speed, hd\n",
    "FROM PC\n",
    "WHERE price < 600 AND cd = '12x' OR price < 600 AND cd = '24x'\n",
    "\n",
    "\"\"\").show()"
   ]
  },
  {
   "cell_type": "code",
   "execution_count": 68,
   "id": "7d8f4f1c",
   "metadata": {},
   "outputs": [
    {
     "name": "stdout",
     "output_type": "stream",
     "text": [
      "+-----+-----+---+\n",
      "|model|speed| hd|\n",
      "+-----+-----+---+\n",
      "| 1232|  500| 10|\n",
      "| 1232|  450|  8|\n",
      "| 1232|  450| 10|\n",
      "| 1260|  500| 10|\n",
      "+-----+-----+---+\n",
      "\n"
     ]
    }
   ],
   "source": [
    "#Spark. Задача 5\n",
    "PC.select(\"model\", \"speed\", \"hd\").\\\n",
    "filter(\"price < 600 AND cd = '12x' OR price < 600 AND cd = '24x'\").show()"
   ]
  },
  {
   "cell_type": "markdown",
   "id": "3d11e1d3",
   "metadata": {},
   "source": [
    "### Задание: 10"
   ]
  },
  {
   "cell_type": "markdown",
   "id": "2e37b03a",
   "metadata": {},
   "source": [
    "Найдите модели принтеров, имеющих самую высокую цену. Вывести: model, price"
   ]
  },
  {
   "cell_type": "markdown",
   "id": "2569985b",
   "metadata": {},
   "source": [
    " · Справка по теме:</br>Подзапросы</br>\n",
    "    Получение итоговых значений"
   ]
  },
  {
   "cell_type": "code",
   "execution_count": 9,
   "id": "e956df3d",
   "metadata": {},
   "outputs": [
    {
     "name": "stdout",
     "output_type": "stream",
     "text": [
      "+-----+-----+\n",
      "|model|price|\n",
      "+-----+-----+\n",
      "| 1276|  400|\n",
      "| 1288|  400|\n",
      "+-----+-----+\n",
      "\n"
     ]
    }
   ],
   "source": [
    "#SQL. Задача 10\n",
    "spark.sql(\"\"\"\n",
    "\n",
    "SELECT model, price\n",
    "FROM Printer\n",
    "WHERE price = (SELECT MAX(price) FROM Printer)\n",
    "\n",
    "\"\"\").show()"
   ]
  },
  {
   "cell_type": "code",
   "execution_count": 10,
   "id": "ec9c8e0d",
   "metadata": {},
   "outputs": [
    {
     "name": "stdout",
     "output_type": "stream",
     "text": [
      "+-----+-----+\n",
      "|model|price|\n",
      "+-----+-----+\n",
      "| 1276|  400|\n",
      "| 1288|  400|\n",
      "+-----+-----+\n",
      "\n"
     ]
    }
   ],
   "source": [
    "#Spark. Задача 10\n",
    "Printer.select(\"model\", \"price\").\\\n",
    "filter(\"price = 400\").show()"
   ]
  },
  {
   "cell_type": "markdown",
   "id": "e06b7ea0",
   "metadata": {},
   "source": [
    "### Задание: 9"
   ]
  },
  {
   "cell_type": "markdown",
   "id": "b91568ef",
   "metadata": {},
   "source": [
    "Найдите производителей ПК с процессором не менее 450 Мгц. Вывести: Maker</br>\n",
    " · Справка по теме:</br>\n",
    "    Явные операции соединения\n",
    "    Простой оператор SELECT"
   ]
  },
  {
   "cell_type": "code",
   "execution_count": 12,
   "id": "3a7b9e55",
   "metadata": {},
   "outputs": [
    {
     "name": "stdout",
     "output_type": "stream",
     "text": [
      "+-----+\n",
      "|maker|\n",
      "+-----+\n",
      "|    B|\n",
      "|    A|\n",
      "|    E|\n",
      "+-----+\n",
      "\n"
     ]
    }
   ],
   "source": [
    "#SQL. Задача 9. Найдите производителей ПК с процессором не менее 450 Мгц. Вывести: Maker. \n",
    "#(Справка по теме: Явные операции соединения Простой оператор SELECT)\n",
    "spark.sql(\"\"\"\n",
    "\n",
    "SELECT DISTINCT Product.maker\n",
    "FROM PC left join Product ON PC.model = Product.model\n",
    "WHERE PC.speed >= 450\n",
    "\n",
    "\n",
    "\"\"\").show()"
   ]
  },
  {
   "cell_type": "code",
   "execution_count": 9,
   "id": "2fec6a65",
   "metadata": {},
   "outputs": [
    {
     "name": "stdout",
     "output_type": "stream",
     "text": [
      "+-----+-----+----+\n",
      "|model|maker|type|\n",
      "+-----+-----+----+\n",
      "| 1232|    A|  PC|\n",
      "| 1121|    B|  PC|\n",
      "| 1233|    A|  PC|\n",
      "| 1260|    E|  PC|\n",
      "+-----+-----+----+\n",
      "\n"
     ]
    }
   ],
   "source": [
    "#Spark. Задача 9. Найдите производителей ПК с процессором не менее 450 Мгц. \n",
    "#Вывести: Maker. \n",
    "#(Справка по теме: Явные операции соединения Простой оператор SELECT)\n",
    "PC.select(\"model\").\\\n",
    "filter(\"speed >= 450\").\\\n",
    "join(Product, on='model', how='left').\\\n",
    "distinct().show()"
   ]
  },
  {
   "cell_type": "code",
   "execution_count": 14,
   "id": "c602755d",
   "metadata": {},
   "outputs": [
    {
     "name": "stdout",
     "output_type": "stream",
     "text": [
      "+-----+\n",
      "|maker|\n",
      "+-----+\n",
      "|    A|\n",
      "|    B|\n",
      "|    E|\n",
      "+-----+\n",
      "\n"
     ]
    }
   ],
   "source": [
    "#Spark. Задача 9. Найдите производителей ПК с процессором не менее 450 Мгц. \n",
    "#(Справка по теме: Явные операции соединения Простой оператор SELECT)\n",
    "#Вывести: Maker.\n",
    "\n",
    "Product.select(\"maker\", \"model\", \"type\").\\\n",
    "join(PC, on='model', how='left').\\\n",
    "filter(\"speed>=450\").\\\n",
    "selectExpr(\"maker\").\\\n",
    "distinct().\\\n",
    "sort(col('maker'), ascending=True).\\\n",
    "show()"
   ]
  },
  {
   "cell_type": "markdown",
   "id": "041b842e",
   "metadata": {},
   "source": [
    "### Задание: 11"
   ]
  },
  {
   "cell_type": "code",
   "execution_count": 13,
   "id": "8f1f88d4",
   "metadata": {},
   "outputs": [
    {
     "data": {
      "text/html": [
       "<table border='1'>\n",
       "<tr><th>avg(speed)</th></tr>\n",
       "<tr><td>608.3333333333334</td></tr>\n",
       "</table>\n"
      ],
      "text/plain": [
       "+-----------------+\n",
       "|       avg(speed)|\n",
       "+-----------------+\n",
       "|608.3333333333334|\n",
       "+-----------------+"
      ]
     },
     "execution_count": 13,
     "metadata": {},
     "output_type": "execute_result"
    }
   ],
   "source": [
    "#SQL. Задание: 11\n",
    "#Найдите среднюю скорость ПК.\n",
    "#Справка по теме:   Получение итоговых значений.\n",
    "\n",
    "spark.sql(\"\"\"\n",
    "\n",
    "SELECT avg(speed)\n",
    "FROM PC\n",
    "\n",
    "\"\"\")"
   ]
  },
  {
   "cell_type": "code",
   "execution_count": 30,
   "id": "2d537a49",
   "metadata": {},
   "outputs": [
    {
     "data": {
      "text/html": [
       "<table border='1'>\n",
       "<tr><th>mean speed:</th></tr>\n",
       "<tr><td>608.3333333333334</td></tr>\n",
       "</table>\n"
      ],
      "text/plain": [
       "+-----------------+\n",
       "|      mean speed:|\n",
       "+-----------------+\n",
       "|608.3333333333334|\n",
       "+-----------------+"
      ]
     },
     "execution_count": 30,
     "metadata": {},
     "output_type": "execute_result"
    }
   ],
   "source": [
    "#SPARK. Задание: 11\n",
    "#Найдите среднюю скорость ПК.\n",
    "#Справка по теме:   Получение итоговых значений.\n",
    "PC.select(F.mean(\"speed\").alias('mean speed:'))"
   ]
  },
  {
   "cell_type": "markdown",
   "id": "f23990b4",
   "metadata": {},
   "source": [
    "### Задание: 12"
   ]
  },
  {
   "cell_type": "code",
   "execution_count": 27,
   "id": "efe62ac3",
   "metadata": {},
   "outputs": [
    {
     "name": "stdout",
     "output_type": "stream",
     "text": [
      "+----+-----+-----+---+---+-----+------+\n",
      "|code|model|speed|ram| hd|price|screen|\n",
      "+----+-----+-----+---+---+-----+------+\n",
      "|   3| 1750|  750|128| 12| 1200|    14|\n",
      "|   4| 1298|  600| 64| 10| 1050|    15|\n",
      "|   5| 1752|  750|128| 10| 1150|    14|\n",
      "+----+-----+-----+---+---+-----+------+\n",
      "\n"
     ]
    }
   ],
   "source": [
    "#SQL\n",
    "#Найдите среднюю скорость ПК-блокнотов, цена которых превышает 1000 дол.\n",
    "spark.sql(\"\"\"\n",
    "\n",
    "SELECT *\n",
    "FROM Laptop\n",
    "WHERE price>1000\n",
    "\n",
    "\"\"\").show()"
   ]
  },
  {
   "cell_type": "code",
   "execution_count": 32,
   "id": "beaedd9c",
   "metadata": {},
   "outputs": [
    {
     "name": "stdout",
     "output_type": "stream",
     "text": [
      "+----+-----+-----+---+---+-----+------+\n",
      "|code|model|speed|ram| hd|price|screen|\n",
      "+----+-----+-----+---+---+-----+------+\n",
      "|   3| 1750|  750|128| 12| 1200|    14|\n",
      "|   4| 1298|  600| 64| 10| 1050|    15|\n",
      "|   5| 1752|  750|128| 10| 1150|    14|\n",
      "+----+-----+-----+---+---+-----+------+\n",
      "\n"
     ]
    }
   ],
   "source": [
    "#SPARK\n",
    "#Найдите среднюю скорость ПК-блокнотов, цена которых превышает 1000 дол.\n",
    "\n",
    "Laptop.select(\"*\").\\\n",
    "filter(\"price > 1000\").\\\n",
    "show()"
   ]
  },
  {
   "cell_type": "markdown",
   "id": "cd209cf9",
   "metadata": {},
   "source": [
    "### Задание: 13"
   ]
  },
  {
   "cell_type": "code",
   "execution_count": 31,
   "id": "b62b4453",
   "metadata": {},
   "outputs": [
    {
     "data": {
      "text/html": [
       "<table border='1'>\n",
       "<tr><th>speed_avg</th></tr>\n",
       "<tr><td>606.25</td></tr>\n",
       "</table>\n"
      ],
      "text/plain": [
       "+---------+\n",
       "|speed_avg|\n",
       "+---------+\n",
       "|   606.25|\n",
       "+---------+"
      ]
     },
     "execution_count": 31,
     "metadata": {},
     "output_type": "execute_result"
    }
   ],
   "source": [
    "#SQL\n",
    "#Найдите среднюю скорость ПК, выпущенных производителем A.\n",
    "  #Получение итоговых значений. Явные операции соединения.\n",
    "spark.sql(\"\"\"\n",
    "\n",
    "SELECT AVG(speed) as speed_avg\n",
    "FROM PC LEFT JOIN PRODUCT ON PC.model = Product.model\n",
    "WHERE maker = \"A\"\n",
    "\n",
    "\"\"\")"
   ]
  },
  {
   "cell_type": "code",
   "execution_count": 18,
   "id": "ebe00d7b",
   "metadata": {},
   "outputs": [
    {
     "data": {
      "text/html": [
       "<table border='1'>\n",
       "<tr><th>maker</th><th>avg_sp</th><th>count_sp</th></tr>\n",
       "<tr><td>A</td><td>606.25</td><td>8</td></tr>\n",
       "</table>\n"
      ],
      "text/plain": [
       "+-----+------+--------+\n",
       "|maker|avg_sp|count_sp|\n",
       "+-----+------+--------+\n",
       "|    A|606.25|       8|\n",
       "+-----+------+--------+"
      ]
     },
     "execution_count": 18,
     "metadata": {},
     "output_type": "execute_result"
    }
   ],
   "source": [
    "#SPARK\n",
    "#Найдите среднюю скорость ПК, выпущенных производителем A.\n",
    "  #Получение итоговых значений. Явные операции соединения.\n",
    "Product.select(\"maker\", \"model\").\\\n",
    "join(PC, on='model', how='right').\\\n",
    "filter(\"maker='A'\").\\\n",
    "selectExpr(\"maker\", \"model\", \"speed\").\\\n",
    "groupby(\"maker\").\\\n",
    "agg(F.mean(\"speed\").alias('avg_sp'),\\\n",
    "    F.count(\"speed\").alias('count_sp'))\n",
    "#agg множественная группировка, внутри функция F, применили сразу два агрегата"
   ]
  },
  {
   "cell_type": "markdown",
   "id": "d147fd4c",
   "metadata": {},
   "source": [
    "### Задание: 6 (2)"
   ]
  },
  {
   "cell_type": "code",
   "execution_count": 23,
   "id": "fda4bcbf",
   "metadata": {},
   "outputs": [
    {
     "name": "stdout",
     "output_type": "stream",
     "text": [
      "+-----+-----+\n",
      "|maker|speed|\n",
      "+-----+-----+\n",
      "|    B|  750|\n",
      "|    A|  600|\n",
      "|    A|  450|\n",
      "|    A|  750|\n",
      "+-----+-----+\n",
      "\n"
     ]
    }
   ],
   "source": [
    "#SQL\n",
    "#Для каждого производителя, выпускающего ПК-блокноты c объёмом жесткого диска не менее 10 Гбайт, \n",
    "#найти скорости таких ПК-блокнотов. Вывод: производитель, скорость.\n",
    "#добавить в конце take(1)[0].maker\n",
    "spark.sql(\"\"\"\n",
    "\n",
    "SELECT DISTINCT maker, Laptop.speed\n",
    "FROM Product RIGHT JOIN Laptop ON Laptop.model = Product.model\n",
    "WHERE Laptop.hd >=10\n",
    "\n",
    "\"\"\").show()"
   ]
  },
  {
   "cell_type": "code",
   "execution_count": 38,
   "id": "98af7946",
   "metadata": {},
   "outputs": [
    {
     "name": "stdout",
     "output_type": "stream",
     "text": [
      "+---+-----+\n",
      "|qty|model|\n",
      "+---+-----+\n",
      "|  1| 1433|\n",
      "|  1| 1434|\n",
      "|  1| 1401|\n",
      "|  1| 1408|\n",
      "+---+-----+\n",
      "\n"
     ]
    }
   ],
   "source": [
    "#Образец кода правильного синтаксиса для понимания(код рабочий).\n",
    "#selectExpr - выражение для одного столбца. Например переименовать, \n",
    "a1 = Printer.select(\"model\", \"color\", \"price\").\\\n",
    "filter(\"price<400\").join(Product, on='model', how='left').\\\n",
    "selectExpr(\"maker maker1\", \"model\", \"price\", \"maker\").\\\n",
    "groupBy(\"maker\", \"model\").count().\\\n",
    "selectExpr(\"count qty\", \"model\")\n",
    "a1.show()"
   ]
  },
  {
   "cell_type": "code",
   "execution_count": 17,
   "id": "5b4147dc",
   "metadata": {},
   "outputs": [
    {
     "name": "stdout",
     "output_type": "stream",
     "text": [
      "+-----+-----+\n",
      "|maker|speed|\n",
      "+-----+-----+\n",
      "|    A|  600|\n",
      "|    A|  450|\n",
      "|    A|  750|\n",
      "|    B|  750|\n",
      "+-----+-----+\n",
      "\n"
     ]
    }
   ],
   "source": [
    "#PYSPARK\n",
    "#Для каждого производителя, выпускающего ПК-блокноты c объёмом жесткого диска не менее 10 Гбайт, \n",
    "#найти скорости таких ПК-блокнотов. Вывод: производитель, скорость.\n",
    "Laptop.select(\"model\", \"speed\", \"hd\").\\\n",
    "filter(\"hd>=10\").\\\n",
    "join(Product, on=\"model\", how=\"left\").\\\n",
    "selectExpr(\"maker\", \"speed\").\\\n",
    "distinct().\\\n",
    "sort('maker').\\\n",
    "show()"
   ]
  },
  {
   "cell_type": "markdown",
   "id": "295a19b0",
   "metadata": {},
   "source": [
    "### Задание 7 (2)"
   ]
  },
  {
   "cell_type": "code",
   "execution_count": 21,
   "id": "3ec8cd73",
   "metadata": {},
   "outputs": [
    {
     "name": "stdout",
     "output_type": "stream",
     "text": [
      "+-----+-----+\n",
      "|model|price|\n",
      "+-----+-----+\n",
      "| 1121|  850|\n",
      "| 1750| 1200|\n",
      "+-----+-----+\n",
      "\n"
     ]
    }
   ],
   "source": [
    "#SQL. Задание 7.\n",
    "#Найдите номера моделей и цены всех имеющихся в продаже продуктов \n",
    "#(любого типа) производителя B (латинская буква).\n",
    "spark.sql(\"\"\"\n",
    "\n",
    "SELECT PC.model, PC.price\n",
    "FROM PC LEFT JOIN\n",
    "     Product ON PC.model = Product.model\n",
    "WHERE Product.maker = 'B'\n",
    "UNION\n",
    "SELECT Laptop.model, Laptop.price\n",
    "FROM Laptop INNER JOIN\n",
    "     Product ON Laptop.model = Product.model\n",
    "WHERE Product.maker = 'B'\n",
    "UNION\n",
    "SELECT Printer.model, Printer.price\n",
    "FROM Printer INNER JOIN\n",
    "     Product ON Printer.model = Product.model\n",
    "WHERE Product.maker = 'B'\n",
    "\n",
    "\"\"\").show()\n",
    "\n"
   ]
  },
  {
   "cell_type": "code",
   "execution_count": 58,
   "id": "bf1d0f6f",
   "metadata": {},
   "outputs": [
    {
     "name": "stdout",
     "output_type": "stream",
     "text": [
      "+-----+-----+-----+------+\n",
      "|model|price|maker|  type|\n",
      "+-----+-----+-----+------+\n",
      "| 1121|  850|    B|    PC|\n",
      "| 1750| 1200|    B|Laptop|\n",
      "+-----+-----+-----+------+\n",
      "\n"
     ]
    }
   ],
   "source": [
    "#SPARK. Задание 7.\n",
    "#Найдите номера моделей и цены всех имеющихся в продаже продуктов \n",
    "#(любого типа) производителя B (латинская буква).\n",
    "PC.select(\"model\", \"price\").\\\n",
    "union(Laptop.select(\"model\", \"price\")).\\\n",
    "union(Printer.select(\"model\", \"price\")).\\\n",
    "join(Product, on='model', how='left').\\\n",
    "filter(\"maker='B'\").\\\n",
    "distinct().\\\n",
    "show()"
   ]
  },
  {
   "cell_type": "markdown",
   "id": "92d52727",
   "metadata": {},
   "source": [
    "### Задание: 8 (2)"
   ]
  },
  {
   "cell_type": "code",
   "execution_count": 9,
   "id": "1e20f407",
   "metadata": {},
   "outputs": [
    {
     "name": "stdout",
     "output_type": "stream",
     "text": [
      "+-----+\n",
      "|maker|\n",
      "+-----+\n",
      "|    E|\n",
      "+-----+\n",
      "\n"
     ]
    }
   ],
   "source": [
    "#SQL\n",
    "#Найдите производителя, выпускающего ПК, но не ПК-блокноты.\n",
    "spark.sql(\"\"\"\n",
    "\n",
    "SELECT DISTINCT maker\n",
    "FROM product\n",
    "WHERE type = 'PC'\n",
    "EXCEPT\n",
    "SELECT DISTINCT maker\n",
    "FROM product\n",
    "Where type = 'Laptop'\n",
    "\n",
    "\"\"\").show(5)"
   ]
  },
  {
   "cell_type": "code",
   "execution_count": 67,
   "id": "fc4af682",
   "metadata": {},
   "outputs": [
    {
     "name": "stdout",
     "output_type": "stream",
     "text": [
      "+-----+----+------+\n",
      "|maker|type|  type|\n",
      "+-----+----+------+\n",
      "|    A|  PC|Laptop|\n",
      "|    B|  PC|Laptop|\n",
      "|    E|  PC|  NULL|\n",
      "+-----+----+------+\n",
      "\n"
     ]
    }
   ],
   "source": [
    "#Spark\n",
    "#Найдите производителя, выпускающего ПК, но не ПК-блокноты.\n",
    "a = Product.select(\"maker\", \"model\", \"type\").\\\n",
    "join(PC, on='model', how='left').\\\n",
    "selectExpr(\"type\",\"maker\").\\\n",
    "distinct().\\\n",
    "filter(\"type = 'PC'\")\n",
    "b = Product.select(\"maker\", \"model\", \"type\").\\\n",
    "join(PC, on='model', how='left').\\\n",
    "selectExpr(\"type\",\"maker\").\\\n",
    "distinct().\\\n",
    "filter(\"type = 'Laptop'\")\n",
    "c = a.join(b, on=\"maker\", how='left').\\\n",
    "filter(\"\")\n",
    "show()"
   ]
  },
  {
   "cell_type": "markdown",
   "id": "06e2eec5",
   "metadata": {},
   "source": [
    "### Задание: 12 (1)"
   ]
  },
  {
   "cell_type": "code",
   "execution_count": 72,
   "id": "3a9aa710",
   "metadata": {},
   "outputs": [
    {
     "name": "stdout",
     "output_type": "stream",
     "text": [
      "+----------+\n",
      "|avg(speed)|\n",
      "+----------+\n",
      "|     700.0|\n",
      "+----------+\n",
      "\n"
     ]
    }
   ],
   "source": [
    "#SQL\n",
    "#Найдите среднюю скорость ПК-блокнотов, цена которых превышает 1000 дол.\n",
    "spark.sql(\"\"\"\n",
    "\n",
    "SELECT AVG(speed)\n",
    "FROM Laptop\n",
    "WHERE price>1000\n",
    "\n",
    "\"\"\").show()"
   ]
  },
  {
   "cell_type": "code",
   "execution_count": 81,
   "id": "a4226547",
   "metadata": {},
   "outputs": [
    {
     "name": "stdout",
     "output_type": "stream",
     "text": [
      "+------+\n",
      "|avg_sp|\n",
      "+------+\n",
      "| 700.0|\n",
      "+------+\n",
      "\n"
     ]
    }
   ],
   "source": [
    "#Spark\n",
    "#Найдите среднюю скорость ПК-блокнотов, цена которых превышает 1000 дол.\n",
    "Laptop.select(\"*\").\\\n",
    "filter(\"price > 1000\").\\\n",
    "agg(F.mean(\"speed\").alias('avg_sp')).\\\n",
    "show()"
   ]
  },
  {
   "cell_type": "markdown",
   "id": "a4d6c545",
   "metadata": {},
   "source": [
    "### Задание 13(1)"
   ]
  },
  {
   "cell_type": "code",
   "execution_count": 85,
   "id": "64941225",
   "metadata": {},
   "outputs": [
    {
     "name": "stdout",
     "output_type": "stream",
     "text": [
      "+----------+\n",
      "|avg(speed)|\n",
      "+----------+\n",
      "|    606.25|\n",
      "+----------+\n",
      "\n"
     ]
    }
   ],
   "source": [
    "#SQL\n",
    "#Найдите среднюю скорость ПК, выпущенных производителем A.\n",
    "\n",
    "spark.sql(\"\"\"\n",
    "\n",
    "SELECT AVG(speed)\n",
    "FROM PC LEFT JOIN Product ON PC.model = Product.model\n",
    "WHERE maker = \"A\"\n",
    "\n",
    "\n",
    "\"\"\").show()"
   ]
  },
  {
   "cell_type": "code",
   "execution_count": 92,
   "id": "f95e34a0",
   "metadata": {},
   "outputs": [
    {
     "name": "stdout",
     "output_type": "stream",
     "text": [
      "+------+\n",
      "|avg_sp|\n",
      "+------+\n",
      "|606.25|\n",
      "+------+\n",
      "\n"
     ]
    }
   ],
   "source": [
    "#Spark\n",
    "#Найдите среднюю скорость ПК, выпущенных производителем A.\n",
    "Product.select(\"maker\", \"model\", \"type\").\\\n",
    "join(PC, on='model', how='left').\\\n",
    "filter(\"maker = 'A'\").\\\n",
    "agg(F.mean(\"speed\").alias('avg_sp')).\\\n",
    "show()"
   ]
  },
  {
   "cell_type": "markdown",
   "id": "d23b74e8",
   "metadata": {},
   "source": [
    "### Задание 14(2)"
   ]
  },
  {
   "cell_type": "code",
   "execution_count": 93,
   "id": "c4432917",
   "metadata": {},
   "outputs": [
    {
     "ename": "AnalysisException",
     "evalue": "[TABLE_OR_VIEW_NOT_FOUND] The table or view `Ships` cannot be found. Verify the spelling and correctness of the schema and catalog.\nIf you did not qualify the name with a schema, verify the current_schema() output, or qualify the name with the correct schema and catalog.\nTo tolerate the error on drop use DROP VIEW IF EXISTS or DROP TABLE IF EXISTS.; line 4 pos 5;\n'Project [*]\n+- 'UnresolvedRelation [Ships], [], false\n",
     "output_type": "error",
     "traceback": [
      "\u001b[1;31m---------------------------------------------------------------------------\u001b[0m",
      "\u001b[1;31mAnalysisException\u001b[0m                         Traceback (most recent call last)",
      "Cell \u001b[1;32mIn[93], line 3\u001b[0m\n\u001b[0;32m      1\u001b[0m \u001b[38;5;66;03m#SQL\u001b[39;00m\n\u001b[0;32m      2\u001b[0m \u001b[38;5;66;03m#Найдите класс, имя и страну для кораблей из таблицы Ships, имеющих не менее 10 орудий.\u001b[39;00m\n\u001b[1;32m----> 3\u001b[0m spark\u001b[38;5;241m.\u001b[39msql(\u001b[38;5;124m\"\"\"\u001b[39m\n\u001b[0;32m      4\u001b[0m \n\u001b[0;32m      5\u001b[0m \u001b[38;5;124mSELECT *\u001b[39m\n\u001b[0;32m      6\u001b[0m \u001b[38;5;124mFROM Ships\u001b[39m\n\u001b[0;32m      7\u001b[0m \n\u001b[0;32m      8\u001b[0m \u001b[38;5;124m\"\"\"\u001b[39m)\n",
      "File \u001b[1;32mc:\\Spark\\python\\pyspark\\sql\\session.py:1631\u001b[0m, in \u001b[0;36mSparkSession.sql\u001b[1;34m(self, sqlQuery, args, **kwargs)\u001b[0m\n\u001b[0;32m   1627\u001b[0m         \u001b[38;5;28;01massert\u001b[39;00m \u001b[38;5;28mself\u001b[39m\u001b[38;5;241m.\u001b[39m_jvm \u001b[38;5;129;01mis\u001b[39;00m \u001b[38;5;129;01mnot\u001b[39;00m \u001b[38;5;28;01mNone\u001b[39;00m\n\u001b[0;32m   1628\u001b[0m         litArgs \u001b[38;5;241m=\u001b[39m \u001b[38;5;28mself\u001b[39m\u001b[38;5;241m.\u001b[39m_jvm\u001b[38;5;241m.\u001b[39mPythonUtils\u001b[38;5;241m.\u001b[39mtoArray(\n\u001b[0;32m   1629\u001b[0m             [_to_java_column(lit(v)) \u001b[38;5;28;01mfor\u001b[39;00m v \u001b[38;5;129;01min\u001b[39;00m (args \u001b[38;5;129;01mor\u001b[39;00m [])]\n\u001b[0;32m   1630\u001b[0m         )\n\u001b[1;32m-> 1631\u001b[0m     \u001b[38;5;28;01mreturn\u001b[39;00m DataFrame(\u001b[38;5;28mself\u001b[39m\u001b[38;5;241m.\u001b[39m_jsparkSession\u001b[38;5;241m.\u001b[39msql(sqlQuery, litArgs), \u001b[38;5;28mself\u001b[39m)\n\u001b[0;32m   1632\u001b[0m \u001b[38;5;28;01mfinally\u001b[39;00m:\n\u001b[0;32m   1633\u001b[0m     \u001b[38;5;28;01mif\u001b[39;00m \u001b[38;5;28mlen\u001b[39m(kwargs) \u001b[38;5;241m>\u001b[39m \u001b[38;5;241m0\u001b[39m:\n",
      "File \u001b[1;32mc:\\Spark\\python\\lib\\py4j-0.10.9.7-src.zip\\py4j\\java_gateway.py:1322\u001b[0m, in \u001b[0;36mJavaMember.__call__\u001b[1;34m(self, *args)\u001b[0m\n\u001b[0;32m   1316\u001b[0m command \u001b[38;5;241m=\u001b[39m proto\u001b[38;5;241m.\u001b[39mCALL_COMMAND_NAME \u001b[38;5;241m+\u001b[39m\\\n\u001b[0;32m   1317\u001b[0m     \u001b[38;5;28mself\u001b[39m\u001b[38;5;241m.\u001b[39mcommand_header \u001b[38;5;241m+\u001b[39m\\\n\u001b[0;32m   1318\u001b[0m     args_command \u001b[38;5;241m+\u001b[39m\\\n\u001b[0;32m   1319\u001b[0m     proto\u001b[38;5;241m.\u001b[39mEND_COMMAND_PART\n\u001b[0;32m   1321\u001b[0m answer \u001b[38;5;241m=\u001b[39m \u001b[38;5;28mself\u001b[39m\u001b[38;5;241m.\u001b[39mgateway_client\u001b[38;5;241m.\u001b[39msend_command(command)\n\u001b[1;32m-> 1322\u001b[0m return_value \u001b[38;5;241m=\u001b[39m get_return_value(\n\u001b[0;32m   1323\u001b[0m     answer, \u001b[38;5;28mself\u001b[39m\u001b[38;5;241m.\u001b[39mgateway_client, \u001b[38;5;28mself\u001b[39m\u001b[38;5;241m.\u001b[39mtarget_id, \u001b[38;5;28mself\u001b[39m\u001b[38;5;241m.\u001b[39mname)\n\u001b[0;32m   1325\u001b[0m \u001b[38;5;28;01mfor\u001b[39;00m temp_arg \u001b[38;5;129;01min\u001b[39;00m temp_args:\n\u001b[0;32m   1326\u001b[0m     \u001b[38;5;28;01mif\u001b[39;00m \u001b[38;5;28mhasattr\u001b[39m(temp_arg, \u001b[38;5;124m\"\u001b[39m\u001b[38;5;124m_detach\u001b[39m\u001b[38;5;124m\"\u001b[39m):\n",
      "File \u001b[1;32mc:\\Spark\\python\\pyspark\\errors\\exceptions\\captured.py:185\u001b[0m, in \u001b[0;36mcapture_sql_exception.<locals>.deco\u001b[1;34m(*a, **kw)\u001b[0m\n\u001b[0;32m    181\u001b[0m converted \u001b[38;5;241m=\u001b[39m convert_exception(e\u001b[38;5;241m.\u001b[39mjava_exception)\n\u001b[0;32m    182\u001b[0m \u001b[38;5;28;01mif\u001b[39;00m \u001b[38;5;129;01mnot\u001b[39;00m \u001b[38;5;28misinstance\u001b[39m(converted, UnknownException):\n\u001b[0;32m    183\u001b[0m     \u001b[38;5;66;03m# Hide where the exception came from that shows a non-Pythonic\u001b[39;00m\n\u001b[0;32m    184\u001b[0m     \u001b[38;5;66;03m# JVM exception message.\u001b[39;00m\n\u001b[1;32m--> 185\u001b[0m     \u001b[38;5;28;01mraise\u001b[39;00m converted \u001b[38;5;28;01mfrom\u001b[39;00m \u001b[38;5;28;01mNone\u001b[39;00m\n\u001b[0;32m    186\u001b[0m \u001b[38;5;28;01melse\u001b[39;00m:\n\u001b[0;32m    187\u001b[0m     \u001b[38;5;28;01mraise\u001b[39;00m\n",
      "\u001b[1;31mAnalysisException\u001b[0m: [TABLE_OR_VIEW_NOT_FOUND] The table or view `Ships` cannot be found. Verify the spelling and correctness of the schema and catalog.\nIf you did not qualify the name with a schema, verify the current_schema() output, or qualify the name with the correct schema and catalog.\nTo tolerate the error on drop use DROP VIEW IF EXISTS or DROP TABLE IF EXISTS.; line 4 pos 5;\n'Project [*]\n+- 'UnresolvedRelation [Ships], [], false\n"
     ]
    }
   ],
   "source": [
    "#SQL\n",
    "#Найдите класс, имя и страну для кораблей из таблицы Ships, имеющих не менее 10 орудий.\n",
    "spark.sql(\"\"\"\n",
    "\n",
    "SELECT *\n",
    "FROM Ships\n",
    "\n",
    "\"\"\").show()"
   ]
  },
  {
   "cell_type": "code",
   "execution_count": null,
   "id": "05584aee",
   "metadata": {},
   "outputs": [],
   "source": [
    "#SPQRK\n",
    "#Найдите класс, имя и страну для кораблей из таблицы Ships, имеющих не менее 10 орудий.\n"
   ]
  },
  {
   "cell_type": "code",
   "execution_count": null,
   "id": "87abdb5b",
   "metadata": {},
   "outputs": [],
   "source": []
  },
  {
   "cell_type": "code",
   "execution_count": null,
   "id": "b51da92a",
   "metadata": {},
   "outputs": [],
   "source": []
  },
  {
   "cell_type": "code",
   "execution_count": null,
   "id": "b3e15d2c",
   "metadata": {},
   "outputs": [],
   "source": []
  }
 ],
 "metadata": {
  "kernelspec": {
   "display_name": "Python 3 (ipykernel)",
   "language": "python",
   "name": "python3"
  },
  "language_info": {
   "codemirror_mode": {
    "name": "ipython",
    "version": 3
   },
   "file_extension": ".py",
   "mimetype": "text/x-python",
   "name": "python",
   "nbconvert_exporter": "python",
   "pygments_lexer": "ipython3",
   "version": "3.11.4"
  },
  "toc": {
   "base_numbering": 1,
   "nav_menu": {
    "height": "290px",
    "width": "229px"
   },
   "number_sections": true,
   "sideBar": true,
   "skip_h1_title": false,
   "title_cell": "Table of Contents",
   "title_sidebar": "Contents",
   "toc_cell": true,
   "toc_position": {
    "height": "calc(100% - 180px)",
    "left": "10px",
    "top": "150px",
    "width": "235px"
   },
   "toc_section_display": true,
   "toc_window_display": true
  }
 },
 "nbformat": 4,
 "nbformat_minor": 5
}
